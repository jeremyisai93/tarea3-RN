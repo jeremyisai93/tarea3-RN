{
 "cells": [
  {
   "cell_type": "code",
   "execution_count": 1,
   "metadata": {},
   "outputs": [
    {
     "name": "stderr",
     "output_type": "stream",
     "text": [
      "Using TensorFlow backend.\n"
     ]
    }
   ],
   "source": [
    "import numpy as np\n",
    "from keras.datasets import imdb\n",
    "np.random.seed(3)\n",
    "(X_train, y_train), (X_test, y_test) = imdb.load_data(seed=15)"
   ]
  },
  {
   "cell_type": "code",
   "execution_count": 2,
   "metadata": {},
   "outputs": [
    {
     "name": "stdout",
     "output_type": "stream",
     "text": [
      "Review length: \n"
     ]
    },
    {
     "data": {
      "image/png": "[encoded data removed]",
      "text/plain": [
       "<matplotlib.figure.Figure at 0x7f63a0565710>"
      ]
     },
     "metadata": {},
     "output_type": "display_data"
    }
   ],
   "source": [
    "X = np.concatenate((X_train, X_test), axis=0)\n",
    "y = np.concatenate((y_train, y_test), axis=0)\n",
    "from matplotlib import pyplot\n",
    "print(\"Review length: \")\n",
    "result = map(len, X)\n",
    "pyplot.boxplot(result)\n",
    "pyplot.show()"
   ]
  },
  {
   "cell_type": "code",
   "execution_count": 2,
   "metadata": {
    "collapsed": true
   },
   "outputs": [],
   "source": [
    "(X_train, y_train), (X_test, y_test) = imdb.load_data(num_words=3000, seed=15)\n",
    "from keras.preprocessing import sequence\n",
    "X_train = sequence.pad_sequences(X_train, maxlen=500)\n",
    "X_test = sequence.pad_sequences(X_test, maxlen=500)"
   ]
  },
  {
   "cell_type": "code",
   "execution_count": 3,
   "metadata": {
    "collapsed": true
   },
   "outputs": [],
   "source": [
    "from keras.models import Sequential\n",
    "from keras.layers import Dense\n",
    "from keras.layers import LSTM\n",
    "from keras.layers.embeddings import Embedding\n",
    "\n",
    "\n",
    "def generate_model(top_words, embedding_length, n_lstm_units=100, dropout=None):\n",
    "    model = Sequential()\n",
    "    model.add(Embedding(top_words, embedding_length, input_length=500))\n",
    "    if dropout is not None:\n",
    "        model.add(Dropout(dropout))\n",
    "    model.add(LSTM(n_lstm_units))\n",
    "    if dropout is not None:\n",
    "        model.add(Dropout(dropout))\n",
    "    model.add(Dense(1, activation='sigmoid'))\n",
    "    model.compile(loss='binary_crossentropy', optimizer='adam', metrics=['accuracy'])\n",
    "    return model\n"
   ]
  },
  {
   "cell_type": "code",
   "execution_count": null,
   "metadata": {},
   "outputs": [
    {
     "name": "stdout",
     "output_type": "stream",
     "text": [
      "_________________________________________________________________\n",
      "Layer (type)                 Output Shape              Param #   \n",
      "=================================================================\n",
      "embedding_1 (Embedding)      (None, 500, 32)           96000     \n",
      "_________________________________________________________________\n",
      "lstm_1 (LSTM)                (None, 100)               53200     \n",
      "_________________________________________________________________\n",
      "dense_1 (Dense)              (None, 1)                 101       \n",
      "=================================================================\n",
      "Total params: 149,301\n",
      "Trainable params: 149,301\n",
      "Non-trainable params: 0\n",
      "_________________________________________________________________\n"
     ]
    }
   ],
   "source": [
    "import h5py\n",
    "from keras.models import load_model\n",
    "model = generate_model(top_words=3000, embedding_length=32, n_lstm_units=100)\n",
    "model.summary()"
   ]
  },
  {
   "cell_type": "code",
   "execution_count": 42,
   "metadata": {},
   "outputs": [
    {
     "name": "stdout",
     "output_type": "stream",
     "text": [
      "Train on 25000 samples, validate on 25000 samples\n",
      "Epoch 1/3\n",
      "25000/25000 [==============================] - 746s - loss: 0.4933 - acc: 0.7567 - val_loss: 0.3580 - val_acc: 0.8494\n",
      "Epoch 2/3\n",
      "25000/25000 [==============================] - 622s - loss: 0.3177 - acc: 0.8706 - val_loss: 0.3992 - val_acc: 0.8584\n",
      "Epoch 3/3\n",
      "25000/25000 [==============================] - 621s - loss: 0.3141 - acc: 0.8694 - val_loss: 0.3167 - val_acc: 0.8691\n"
     ]
    }
   ],
   "source": [
    "hist = model.fit(X_train, y_train, validation_data=(X_test, y_test), epochs=3, batch_size=64)\n",
    "model.save('lstm100_embedding32.h5')\n",
    "model.save('lstm100_topWord3000.h5')\n",
    "#scores = model.evaluate(X_test, y_test, verbose=1)"
   ]
  },
  {
   "cell_type": "code",
   "execution_count": 43,
   "metadata": {},
   "outputs": [
    {
     "name": "stdout",
     "output_type": "stream",
     "text": [
      "Test loss: 0.316668782351\n",
      "Test accuracy: 0.86912\n"
     ]
    }
   ],
   "source": [
    "scores = model.evaluate(X_test, y_test, verbose=0)\n",
    "print('Test loss: {0}'.format(scores[0]))\n",
    "print('Test accuracy: {0}'.format(scores[1]))"
   ]
  },
  {
   "cell_type": "code",
   "execution_count": null,
   "metadata": {
    "collapsed": true
   },
   "outputs": [],
   "source": []
  },
  {
   "cell_type": "code",
   "execution_count": null,
   "metadata": {},
   "outputs": [
    {
     "name": "stdout",
     "output_type": "stream",
     "text": [
      "Train on 25000 samples, validate on 25000 samples\n",
      "Epoch 1/3\n",
      "25000/25000 [==============================] - 1000s - loss: 0.4907 - acc: 0.7606 - val_loss: 0.3796 - val_acc: 0.8384\n",
      "Epoch 2/3\n",
      "25000/25000 [==============================] - 752s - loss: 0.3234 - acc: 0.8675 - val_loss: 0.2993 - val_acc: 0.8736\n",
      "Epoch 3/3\n",
      "25000/25000 [==============================] - 809s - loss: 0.2725 - acc: 0.8928 - val_loss: 0.3131 - val_acc: 0.8739\n",
      "Train on 25000 samples, validate on 25000 samples\n",
      "Epoch 1/3\n",
      "25000/25000 [==============================] - 2178s - loss: 0.4793 - acc: 0.7638 - val_loss: 0.4006 - val_acc: 0.8198\n",
      "Epoch 2/3\n",
      "22400/25000 [=========================>....] - ETA: 326s - loss: 0.3527 - acc: 0.8529"
     ]
    }
   ],
   "source": [
    "embedding_lengths = [128,512,1024]#falta 8\n",
    "\n",
    "for length in embedding_lengths:\n",
    "    model = generate_model(top_words=3000, embedding_length=length, n_lstm_units=100)\n",
    "    # fitting the model\n",
    "    hist = model.fit(X_train, y_train, validation_data=(X_test, y_test), epochs=3, batch_size=64)\n",
    "    # saving the model\n",
    "    model.save('lstm100_embedding'+str(length)+'.h5')"
   ]
  },
  {
   "cell_type": "code",
   "execution_count": null,
   "metadata": {
    "collapsed": true
   },
   "outputs": [],
   "source": [
    "top_words = [1000,2000,4000,5000]\n",
    "\n",
    "for length in top_words:\n",
    "    model = generate_model(top_words=length, embedding_length=32, n_lstm_units=100)\n",
    "    # fitting the model\n",
    "    hist = model.fit(X_train, y_train, validation_data=(X_test, y_test), epochs=3, batch_size=64)\n",
    "    # saving the model\n",
    "    model.save('lstm100_topWord'+str(length)+'.h5')"
   ]
  },
  {
   "cell_type": "code",
   "execution_count": null,
   "metadata": {
    "collapsed": true
   },
   "outputs": [],
   "source": []
  },
  {
   "cell_type": "code",
   "execution_count": null,
   "metadata": {
    "collapsed": true
   },
   "outputs": [],
   "source": [
    "model = generate_model(top_words=3000, embedding_length=32, n_lstm_units=100, dropout=0.2 )\n",
    "model.summary()"
   ]
  },
  {
   "cell_type": "code",
   "execution_count": null,
   "metadata": {
    "collapsed": true
   },
   "outputs": [],
   "source": [
    "hist = model.fit(X_train, y_train, validation_data=(X_test, y_test), epochs=3, batch_size=64)\n",
    "model.save('lstm100_dropout02.h5')"
   ]
  },
  {
   "cell_type": "code",
   "execution_count": null,
   "metadata": {
    "collapsed": true
   },
   "outputs": [],
   "source": []
  }
 ],
 "metadata": {
  "kernelspec": {
   "display_name": "Python 2",
   "language": "python",
   "name": "python2"
  },
  "language_info": {
   "codemirror_mode": {
    "name": "ipython",
    "version": 2
   },
   "file_extension": ".py",
   "mimetype": "text/x-python",
   "name": "python",
   "nbconvert_exporter": "python",
   "pygments_lexer": "ipython2",
   "version": "2.7.11"
  }
 },
 "nbformat": 4,
 "nbformat_minor": 2
}
